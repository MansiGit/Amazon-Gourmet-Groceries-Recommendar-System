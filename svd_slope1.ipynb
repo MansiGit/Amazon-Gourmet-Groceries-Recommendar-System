{
 "cells": [
  {
   "cell_type": "markdown",
   "metadata": {},
   "source": [
    "# SVD baseline + Slope One Implementation\n",
    "- This notebook includes the implementation of SVD baseline and Slope One\n"
   ]
  },
  {
   "cell_type": "markdown",
   "metadata": {},
   "source": [
    "## Installation and Importing Libraries"
   ]
  },
  {
   "cell_type": "code",
   "execution_count": null,
   "metadata": {},
   "outputs": [],
   "source": [
    "!pip install --upgrade numpy\n",
    "!pip install scikit-surprise"
   ]
  },
  {
   "cell_type": "code",
   "execution_count": null,
   "metadata": {},
   "outputs": [],
   "source": [
    "!pip install numba --upgrade\n",
    "!pip install --upgrade pandas\n",
    "!pip install ipysheet"
   ]
  },
  {
   "cell_type": "code",
   "execution_count": 921,
   "metadata": {
    "id": "M7-JrkCWMo0v"
   },
   "outputs": [],
   "source": [
    "import json\n",
    "import sys\n",
    "import pandas as pd\n",
    "import seaborn as sns\n",
    "from sklearn.metrics.pairwise import cosine_similarity\n",
    "import numpy as np\n",
    "from math import log2\n",
    "from sklearn.metrics import mean_absolute_error\n",
    "import random\n",
    "from sklearn.neighbors import KNeighborsRegressor\n",
    "from sklearn.preprocessing import LabelEncoder\n",
    "from sklearn.metrics import mean_squared_error\n",
    "import surprise as sp\n",
    "sys.path.insert(1, 'funk-svd-master')\n",
    "from funk_svd import SVD\n",
    "from surprise.model_selection import train_test_split\n",
    "from ipysheet import sheet, cell, row, column, cell_range\n"
   ]
  },
  {
   "cell_type": "markdown",
   "metadata": {
    "id": "Vx0qaP94cyzp"
   },
   "source": [
    "## Loading Data and cleaning"
   ]
  },
  {
   "cell_type": "code",
   "execution_count": 770,
   "metadata": {
    "id": "9yx70gWmRVrt"
   },
   "outputs": [],
   "source": [
    "df = pd.read_json('Grocery_and_Gourmet_Food_5.json',lines=True)"
   ]
  },
  {
   "cell_type": "code",
   "execution_count": 771,
   "metadata": {
    "colab": {
     "base_uri": "https://localhost:8080/"
    },
    "id": "9Py-QthYcvWH",
    "outputId": "bcdc73ff-22a9-45e3-d674-2427ac7ce9ee"
   },
   "outputs": [
    {
     "name": "stdout",
     "output_type": "stream",
     "text": [
      "<class 'pandas.core.frame.DataFrame'>\n",
      "RangeIndex: 1143860 entries, 0 to 1143859\n",
      "Data columns (total 12 columns):\n",
      " #   Column          Non-Null Count    Dtype \n",
      "---  ------          --------------    ----- \n",
      " 0   overall         1143860 non-null  int64 \n",
      " 1   verified        1143860 non-null  bool  \n",
      " 2   reviewTime      1143860 non-null  object\n",
      " 3   reviewerID      1143860 non-null  object\n",
      " 4   asin            1143860 non-null  object\n",
      " 5   reviewerName    1143722 non-null  object\n",
      " 6   reviewText      1143470 non-null  object\n",
      " 7   summary         1143641 non-null  object\n",
      " 8   unixReviewTime  1143860 non-null  int64 \n",
      " 9   vote            158202 non-null   object\n",
      " 10  style           592086 non-null   object\n",
      " 11  image           9510 non-null     object\n",
      "dtypes: bool(1), int64(2), object(9)\n",
      "memory usage: 97.1+ MB\n"
     ]
    }
   ],
   "source": [
    "df.info()"
   ]
  },
  {
   "cell_type": "code",
   "execution_count": 772,
   "metadata": {
    "colab": {
     "base_uri": "https://localhost:8080/",
     "height": 206
    },
    "id": "LZ0BbxdMskAV",
    "outputId": "de7a1aa5-88ea-4870-d2b7-882d071627c3"
   },
   "outputs": [],
   "source": [
    "#drop useless variables - 'image','vote','style','review_text','summary','reviewTime'\n",
    "#filter out unverified ratings\n",
    "#rename columns\n",
    "#drop duplicate ratings -- extract latest review\n",
    "\n",
    "df = df[df['verified']==True]\n",
    "drop_list = ['image','vote','style','reviewText','summary','reviewTime','reviewerName','unixReviewTime','verified']\n",
    "df.drop(df[drop_list], axis=1, inplace=True)\n",
    "\n",
    "df = df.iloc[:,[1,2,0]]\n",
    "df.dropna()\n",
    "\n",
    "df.rename(columns={'reviewerID':'u_id', 'asin':'i_id', 'overall':'rating'}, inplace=True)\n",
    "df.drop_duplicates(inplace=True)"
   ]
  },
  {
   "cell_type": "markdown",
   "metadata": {},
   "source": [
    "## Reduce dataset"
   ]
  },
  {
   "cell_type": "code",
   "execution_count": 773,
   "metadata": {},
   "outputs": [
    {
     "data": {
      "text/html": [
       "<div>\n",
       "<style scoped>\n",
       "    .dataframe tbody tr th:only-of-type {\n",
       "        vertical-align: middle;\n",
       "    }\n",
       "\n",
       "    .dataframe tbody tr th {\n",
       "        vertical-align: top;\n",
       "    }\n",
       "\n",
       "    .dataframe thead th {\n",
       "        text-align: right;\n",
       "    }\n",
       "</style>\n",
       "<table border=\"1\" class=\"dataframe\">\n",
       "  <thead>\n",
       "    <tr style=\"text-align: right;\">\n",
       "      <th></th>\n",
       "      <th>u_id</th>\n",
       "      <th>mean_rating</th>\n",
       "      <th>number_of_ratings</th>\n",
       "    </tr>\n",
       "  </thead>\n",
       "  <tbody>\n",
       "    <tr>\n",
       "      <th>46</th>\n",
       "      <td>A100WO06OQR8BQ</td>\n",
       "      <td>4.416667</td>\n",
       "      <td>84</td>\n",
       "    </tr>\n",
       "    <tr>\n",
       "      <th>142</th>\n",
       "      <td>A1047EDJ84IMAS</td>\n",
       "      <td>4.491803</td>\n",
       "      <td>61</td>\n",
       "    </tr>\n",
       "    <tr>\n",
       "      <th>1799</th>\n",
       "      <td>A11WNQ3PPU73Y1</td>\n",
       "      <td>4.444444</td>\n",
       "      <td>90</td>\n",
       "    </tr>\n",
       "    <tr>\n",
       "      <th>2264</th>\n",
       "      <td>A12FLMSWRKK2IK</td>\n",
       "      <td>4.972603</td>\n",
       "      <td>73</td>\n",
       "    </tr>\n",
       "    <tr>\n",
       "      <th>2452</th>\n",
       "      <td>A12O5SEIF162P8</td>\n",
       "      <td>4.830189</td>\n",
       "      <td>53</td>\n",
       "    </tr>\n",
       "    <tr>\n",
       "      <th>...</th>\n",
       "      <td>...</td>\n",
       "      <td>...</td>\n",
       "      <td>...</td>\n",
       "    </tr>\n",
       "    <tr>\n",
       "      <th>122289</th>\n",
       "      <td>AWP3OETSAYH0V</td>\n",
       "      <td>4.545455</td>\n",
       "      <td>55</td>\n",
       "    </tr>\n",
       "    <tr>\n",
       "      <th>122754</th>\n",
       "      <td>AX80SWHDEKJCY</td>\n",
       "      <td>4.553571</td>\n",
       "      <td>56</td>\n",
       "    </tr>\n",
       "    <tr>\n",
       "      <th>123051</th>\n",
       "      <td>AXK37UZY8UPYP</td>\n",
       "      <td>4.436364</td>\n",
       "      <td>55</td>\n",
       "    </tr>\n",
       "    <tr>\n",
       "      <th>123499</th>\n",
       "      <td>AY1EF0GOH80EK</td>\n",
       "      <td>4.037500</td>\n",
       "      <td>80</td>\n",
       "    </tr>\n",
       "    <tr>\n",
       "      <th>125130</th>\n",
       "      <td>AZV26LP92E6WU</td>\n",
       "      <td>4.847619</td>\n",
       "      <td>105</td>\n",
       "    </tr>\n",
       "  </tbody>\n",
       "</table>\n",
       "<p>376 rows × 3 columns</p>\n",
       "</div>"
      ],
      "text/plain": [
       "                  u_id  mean_rating  number_of_ratings\n",
       "46      A100WO06OQR8BQ     4.416667                 84\n",
       "142     A1047EDJ84IMAS     4.491803                 61\n",
       "1799    A11WNQ3PPU73Y1     4.444444                 90\n",
       "2264    A12FLMSWRKK2IK     4.972603                 73\n",
       "2452    A12O5SEIF162P8     4.830189                 53\n",
       "...                ...          ...                ...\n",
       "122289   AWP3OETSAYH0V     4.545455                 55\n",
       "122754   AX80SWHDEKJCY     4.553571                 56\n",
       "123051   AXK37UZY8UPYP     4.436364                 55\n",
       "123499   AY1EF0GOH80EK     4.037500                 80\n",
       "125130   AZV26LP92E6WU     4.847619                105\n",
       "\n",
       "[376 rows x 3 columns]"
      ]
     },
     "execution_count": 773,
     "metadata": {},
     "output_type": "execute_result"
    }
   ],
   "source": [
    "df_TopReviewers = df.groupby('u_id').agg(mean_rating = ('rating',\n",
    "'mean'),\n",
    "number_of_ratings =\n",
    "('rating', 'count')).reset_index()\n",
    "\n",
    "df_TopRev = df_TopReviewers[df_TopReviewers['number_of_ratings']>20]\n",
    "df_TopRev"
   ]
  },
  {
   "cell_type": "code",
   "execution_count": 774,
   "metadata": {},
   "outputs": [
    {
     "data": {
      "text/html": [
       "<div>\n",
       "<style scoped>\n",
       "    .dataframe tbody tr th:only-of-type {\n",
       "        vertical-align: middle;\n",
       "    }\n",
       "\n",
       "    .dataframe tbody tr th {\n",
       "        vertical-align: top;\n",
       "    }\n",
       "\n",
       "    .dataframe thead th {\n",
       "        text-align: right;\n",
       "    }\n",
       "</style>\n",
       "<table border=\"1\" class=\"dataframe\">\n",
       "  <thead>\n",
       "    <tr style=\"text-align: right;\">\n",
       "      <th></th>\n",
       "      <th>u_id</th>\n",
       "      <th>i_id</th>\n",
       "      <th>rating</th>\n",
       "    </tr>\n",
       "  </thead>\n",
       "  <tbody>\n",
       "    <tr>\n",
       "      <th>0</th>\n",
       "      <td>ALOGZDSPWZI72</td>\n",
       "      <td>4639725043</td>\n",
       "      <td>4</td>\n",
       "    </tr>\n",
       "    <tr>\n",
       "      <th>1</th>\n",
       "      <td>ALOGZDSPWZI72</td>\n",
       "      <td>B0000EYK3E</td>\n",
       "      <td>3</td>\n",
       "    </tr>\n",
       "    <tr>\n",
       "      <th>2</th>\n",
       "      <td>ALOGZDSPWZI72</td>\n",
       "      <td>B00014JNI0</td>\n",
       "      <td>5</td>\n",
       "    </tr>\n",
       "    <tr>\n",
       "      <th>3</th>\n",
       "      <td>ALOGZDSPWZI72</td>\n",
       "      <td>B00016LZT8</td>\n",
       "      <td>5</td>\n",
       "    </tr>\n",
       "    <tr>\n",
       "      <th>4</th>\n",
       "      <td>ALOGZDSPWZI72</td>\n",
       "      <td>B0001M0Z7A</td>\n",
       "      <td>5</td>\n",
       "    </tr>\n",
       "    <tr>\n",
       "      <th>...</th>\n",
       "      <td>...</td>\n",
       "      <td>...</td>\n",
       "      <td>...</td>\n",
       "    </tr>\n",
       "    <tr>\n",
       "      <th>27857</th>\n",
       "      <td>AA2YXSKQWPG11</td>\n",
       "      <td>B00K279FP2</td>\n",
       "      <td>5</td>\n",
       "    </tr>\n",
       "    <tr>\n",
       "      <th>27858</th>\n",
       "      <td>AA2YXSKQWPG11</td>\n",
       "      <td>B00Q1RT1N8</td>\n",
       "      <td>5</td>\n",
       "    </tr>\n",
       "    <tr>\n",
       "      <th>27859</th>\n",
       "      <td>AA2YXSKQWPG11</td>\n",
       "      <td>B00UH2J5M0</td>\n",
       "      <td>5</td>\n",
       "    </tr>\n",
       "    <tr>\n",
       "      <th>27860</th>\n",
       "      <td>AA2YXSKQWPG11</td>\n",
       "      <td>B01AAYESMG</td>\n",
       "      <td>5</td>\n",
       "    </tr>\n",
       "    <tr>\n",
       "      <th>27861</th>\n",
       "      <td>AA2YXSKQWPG11</td>\n",
       "      <td>B01FSZ2JUK</td>\n",
       "      <td>5</td>\n",
       "    </tr>\n",
       "  </tbody>\n",
       "</table>\n",
       "<p>27862 rows × 3 columns</p>\n",
       "</div>"
      ],
      "text/plain": [
       "                u_id        i_id  rating\n",
       "0      ALOGZDSPWZI72  4639725043       4\n",
       "1      ALOGZDSPWZI72  B0000EYK3E       3\n",
       "2      ALOGZDSPWZI72  B00014JNI0       5\n",
       "3      ALOGZDSPWZI72  B00016LZT8       5\n",
       "4      ALOGZDSPWZI72  B0001M0Z7A       5\n",
       "...              ...         ...     ...\n",
       "27857  AA2YXSKQWPG11  B00K279FP2       5\n",
       "27858  AA2YXSKQWPG11  B00Q1RT1N8       5\n",
       "27859  AA2YXSKQWPG11  B00UH2J5M0       5\n",
       "27860  AA2YXSKQWPG11  B01AAYESMG       5\n",
       "27861  AA2YXSKQWPG11  B01FSZ2JUK       5\n",
       "\n",
       "[27862 rows x 3 columns]"
      ]
     },
     "execution_count": 774,
     "metadata": {},
     "output_type": "execute_result"
    }
   ],
   "source": [
    "df_final = pd.merge(df, df_TopRev[['u_id']], on='u_id',how='inner')\n",
    "df_final"
   ]
  },
  {
   "cell_type": "code",
   "execution_count": 775,
   "metadata": {
    "colab": {
     "base_uri": "https://localhost:8080/"
    },
    "id": "PtEUiGTSk2fy",
    "outputId": "e023c7cd-fb65-48a8-c4a7-cc2fc6c0fecb"
   },
   "outputs": [
    {
     "name": "stdout",
     "output_type": "stream",
     "text": [
      "The ratings dataset has 376 reviewers\n",
      "The ratings dataset has 13697 unique products\n",
      "The unique ratings are [1, 2, 3, 4, 5] ratings\n"
     ]
    }
   ],
   "source": [
    "print('The ratings dataset has', df_final['u_id'].nunique(), 'reviewers')\n",
    "print('The ratings dataset has', df_final['i_id'].nunique(), 'unique products')\n",
    "print('The unique ratings are', sorted(df_final['rating'].unique()), 'ratings')\n"
   ]
  },
  {
   "cell_type": "code",
   "execution_count": 776,
   "metadata": {},
   "outputs": [
    {
     "data": {
      "text/plain": [
       "<pandas.core.groupby.generic.DataFrameGroupBy object at 0x7f77d4f47820>"
      ]
     },
     "execution_count": 776,
     "metadata": {},
     "output_type": "execute_result"
    }
   ],
   "source": [
    "#reviewer_products_ratings = df_final.groupby('reviewerID')[['asin', 'overall']].agg(list)\n",
    "reviewer_products_ratings = df_final.groupby('u_id')\n",
    "reviewer_products_ratings"
   ]
  },
  {
   "cell_type": "code",
   "execution_count": 777,
   "metadata": {},
   "outputs": [],
   "source": [
    "reviewer_ids = list(reviewer_products_ratings.groups.keys())\n",
    "#reviewer_ids"
   ]
  },
  {
   "cell_type": "code",
   "execution_count": 778,
   "metadata": {},
   "outputs": [],
   "source": [
    "asin_values = reviewer_products_ratings.get_group(reviewer_ids[1])['i_id'].tolist()\n",
    "#asin_values"
   ]
  },
  {
   "cell_type": "code",
   "execution_count": 779,
   "metadata": {},
   "outputs": [],
   "source": [
    "def split_train_test(group):\n",
    "    train = group.sample(frac=0.6, random_state=123)\n",
    "    val = group.drop(train.index).sample(frac=0.5, random_state=124)\n",
    "    test = group.drop(train.index).drop(val.index)\n",
    "    return train, val, test"
   ]
  },
  {
   "cell_type": "code",
   "execution_count": 780,
   "metadata": {},
   "outputs": [],
   "source": [
    "train_test_splits = reviewer_products_ratings.apply(split_train_test)\n"
   ]
  },
  {
   "cell_type": "code",
   "execution_count": 781,
   "metadata": {},
   "outputs": [],
   "source": [
    "train_test_splits = train_test_splits.reset_index(level=[0], drop=True)\n"
   ]
  },
  {
   "cell_type": "code",
   "execution_count": 782,
   "metadata": {},
   "outputs": [],
   "source": [
    "train_df = pd.concat([split[0] for split in train_test_splits])\n",
    "val_df = pd.concat([split[1] for split in train_test_splits])\n",
    "test_df = pd.concat([split[2] for split in train_test_splits])\n"
   ]
  },
  {
   "cell_type": "code",
   "execution_count": 783,
   "metadata": {},
   "outputs": [
    {
     "data": {
      "text/html": [
       "<div>\n",
       "<style scoped>\n",
       "    .dataframe tbody tr th:only-of-type {\n",
       "        vertical-align: middle;\n",
       "    }\n",
       "\n",
       "    .dataframe tbody tr th {\n",
       "        vertical-align: top;\n",
       "    }\n",
       "\n",
       "    .dataframe thead th {\n",
       "        text-align: right;\n",
       "    }\n",
       "</style>\n",
       "<table border=\"1\" class=\"dataframe\">\n",
       "  <thead>\n",
       "    <tr style=\"text-align: right;\">\n",
       "      <th></th>\n",
       "      <th>u_id</th>\n",
       "      <th>i_id</th>\n",
       "      <th>rating</th>\n",
       "    </tr>\n",
       "  </thead>\n",
       "  <tbody>\n",
       "    <tr>\n",
       "      <th>18210</th>\n",
       "      <td>A100WO06OQR8BQ</td>\n",
       "      <td>B00OQDD5ZY</td>\n",
       "      <td>3</td>\n",
       "    </tr>\n",
       "    <tr>\n",
       "      <th>18163</th>\n",
       "      <td>A100WO06OQR8BQ</td>\n",
       "      <td>B0029XLH4Y</td>\n",
       "      <td>5</td>\n",
       "    </tr>\n",
       "    <tr>\n",
       "      <th>18144</th>\n",
       "      <td>A100WO06OQR8BQ</td>\n",
       "      <td>B000F3Q4AM</td>\n",
       "      <td>3</td>\n",
       "    </tr>\n",
       "    <tr>\n",
       "      <th>18219</th>\n",
       "      <td>A100WO06OQR8BQ</td>\n",
       "      <td>B0167BR01C</td>\n",
       "      <td>5</td>\n",
       "    </tr>\n",
       "    <tr>\n",
       "      <th>18202</th>\n",
       "      <td>A100WO06OQR8BQ</td>\n",
       "      <td>B00GMWB09U</td>\n",
       "      <td>5</td>\n",
       "    </tr>\n",
       "    <tr>\n",
       "      <th>...</th>\n",
       "      <td>...</td>\n",
       "      <td>...</td>\n",
       "      <td>...</td>\n",
       "    </tr>\n",
       "    <tr>\n",
       "      <th>14540</th>\n",
       "      <td>AZV26LP92E6WU</td>\n",
       "      <td>B000S5RBZ4</td>\n",
       "      <td>5</td>\n",
       "    </tr>\n",
       "    <tr>\n",
       "      <th>14554</th>\n",
       "      <td>AZV26LP92E6WU</td>\n",
       "      <td>B001E53016</td>\n",
       "      <td>5</td>\n",
       "    </tr>\n",
       "    <tr>\n",
       "      <th>14584</th>\n",
       "      <td>AZV26LP92E6WU</td>\n",
       "      <td>B002DHMVQE</td>\n",
       "      <td>5</td>\n",
       "    </tr>\n",
       "    <tr>\n",
       "      <th>14553</th>\n",
       "      <td>AZV26LP92E6WU</td>\n",
       "      <td>B001E52YY0</td>\n",
       "      <td>5</td>\n",
       "    </tr>\n",
       "    <tr>\n",
       "      <th>14525</th>\n",
       "      <td>AZV26LP92E6WU</td>\n",
       "      <td>B000H27M0M</td>\n",
       "      <td>5</td>\n",
       "    </tr>\n",
       "  </tbody>\n",
       "</table>\n",
       "<p>16727 rows × 3 columns</p>\n",
       "</div>"
      ],
      "text/plain": [
       "                 u_id        i_id  rating\n",
       "18210  A100WO06OQR8BQ  B00OQDD5ZY       3\n",
       "18163  A100WO06OQR8BQ  B0029XLH4Y       5\n",
       "18144  A100WO06OQR8BQ  B000F3Q4AM       3\n",
       "18219  A100WO06OQR8BQ  B0167BR01C       5\n",
       "18202  A100WO06OQR8BQ  B00GMWB09U       5\n",
       "...               ...         ...     ...\n",
       "14540   AZV26LP92E6WU  B000S5RBZ4       5\n",
       "14554   AZV26LP92E6WU  B001E53016       5\n",
       "14584   AZV26LP92E6WU  B002DHMVQE       5\n",
       "14553   AZV26LP92E6WU  B001E52YY0       5\n",
       "14525   AZV26LP92E6WU  B000H27M0M       5\n",
       "\n",
       "[16727 rows x 3 columns]"
      ]
     },
     "execution_count": 783,
     "metadata": {},
     "output_type": "execute_result"
    }
   ],
   "source": [
    "train_df"
   ]
  },
  {
   "cell_type": "code",
   "execution_count": 784,
   "metadata": {},
   "outputs": [
    {
     "data": {
      "text/html": [
       "<div>\n",
       "<style scoped>\n",
       "    .dataframe tbody tr th:only-of-type {\n",
       "        vertical-align: middle;\n",
       "    }\n",
       "\n",
       "    .dataframe tbody tr th {\n",
       "        vertical-align: top;\n",
       "    }\n",
       "\n",
       "    .dataframe thead th {\n",
       "        text-align: right;\n",
       "    }\n",
       "</style>\n",
       "<table border=\"1\" class=\"dataframe\">\n",
       "  <thead>\n",
       "    <tr style=\"text-align: right;\">\n",
       "      <th></th>\n",
       "      <th>u_id</th>\n",
       "      <th>i_id</th>\n",
       "      <th>rating</th>\n",
       "    </tr>\n",
       "  </thead>\n",
       "  <tbody>\n",
       "    <tr>\n",
       "      <th>18165</th>\n",
       "      <td>A100WO06OQR8BQ</td>\n",
       "      <td>B003DQDK50</td>\n",
       "      <td>5</td>\n",
       "    </tr>\n",
       "    <tr>\n",
       "      <th>18200</th>\n",
       "      <td>A100WO06OQR8BQ</td>\n",
       "      <td>B00FNP3LC6</td>\n",
       "      <td>5</td>\n",
       "    </tr>\n",
       "    <tr>\n",
       "      <th>18157</th>\n",
       "      <td>A100WO06OQR8BQ</td>\n",
       "      <td>B001ELL4ZY</td>\n",
       "      <td>2</td>\n",
       "    </tr>\n",
       "    <tr>\n",
       "      <th>18213</th>\n",
       "      <td>A100WO06OQR8BQ</td>\n",
       "      <td>B00SUE81HC</td>\n",
       "      <td>5</td>\n",
       "    </tr>\n",
       "    <tr>\n",
       "      <th>18167</th>\n",
       "      <td>A100WO06OQR8BQ</td>\n",
       "      <td>B00474ASJI</td>\n",
       "      <td>5</td>\n",
       "    </tr>\n",
       "    <tr>\n",
       "      <th>...</th>\n",
       "      <td>...</td>\n",
       "      <td>...</td>\n",
       "      <td>...</td>\n",
       "    </tr>\n",
       "    <tr>\n",
       "      <th>14513</th>\n",
       "      <td>AZV26LP92E6WU</td>\n",
       "      <td>B000E1FZHS</td>\n",
       "      <td>5</td>\n",
       "    </tr>\n",
       "    <tr>\n",
       "      <th>14608</th>\n",
       "      <td>AZV26LP92E6WU</td>\n",
       "      <td>B00N4Z3IZW</td>\n",
       "      <td>5</td>\n",
       "    </tr>\n",
       "    <tr>\n",
       "      <th>14562</th>\n",
       "      <td>AZV26LP92E6WU</td>\n",
       "      <td>B001EPQVFS</td>\n",
       "      <td>5</td>\n",
       "    </tr>\n",
       "    <tr>\n",
       "      <th>14606</th>\n",
       "      <td>AZV26LP92E6WU</td>\n",
       "      <td>B00IAE8ZQY</td>\n",
       "      <td>5</td>\n",
       "    </tr>\n",
       "    <tr>\n",
       "      <th>14605</th>\n",
       "      <td>AZV26LP92E6WU</td>\n",
       "      <td>B00H9ZF64O</td>\n",
       "      <td>5</td>\n",
       "    </tr>\n",
       "  </tbody>\n",
       "</table>\n",
       "<p>5552 rows × 3 columns</p>\n",
       "</div>"
      ],
      "text/plain": [
       "                 u_id        i_id  rating\n",
       "18165  A100WO06OQR8BQ  B003DQDK50       5\n",
       "18200  A100WO06OQR8BQ  B00FNP3LC6       5\n",
       "18157  A100WO06OQR8BQ  B001ELL4ZY       2\n",
       "18213  A100WO06OQR8BQ  B00SUE81HC       5\n",
       "18167  A100WO06OQR8BQ  B00474ASJI       5\n",
       "...               ...         ...     ...\n",
       "14513   AZV26LP92E6WU  B000E1FZHS       5\n",
       "14608   AZV26LP92E6WU  B00N4Z3IZW       5\n",
       "14562   AZV26LP92E6WU  B001EPQVFS       5\n",
       "14606   AZV26LP92E6WU  B00IAE8ZQY       5\n",
       "14605   AZV26LP92E6WU  B00H9ZF64O       5\n",
       "\n",
       "[5552 rows x 3 columns]"
      ]
     },
     "execution_count": 784,
     "metadata": {},
     "output_type": "execute_result"
    }
   ],
   "source": [
    "val_df"
   ]
  },
  {
   "cell_type": "code",
   "execution_count": 785,
   "metadata": {},
   "outputs": [
    {
     "data": {
      "text/html": [
       "<div>\n",
       "<style scoped>\n",
       "    .dataframe tbody tr th:only-of-type {\n",
       "        vertical-align: middle;\n",
       "    }\n",
       "\n",
       "    .dataframe tbody tr th {\n",
       "        vertical-align: top;\n",
       "    }\n",
       "\n",
       "    .dataframe thead th {\n",
       "        text-align: right;\n",
       "    }\n",
       "</style>\n",
       "<table border=\"1\" class=\"dataframe\">\n",
       "  <thead>\n",
       "    <tr style=\"text-align: right;\">\n",
       "      <th></th>\n",
       "      <th>u_id</th>\n",
       "      <th>i_id</th>\n",
       "      <th>rating</th>\n",
       "    </tr>\n",
       "  </thead>\n",
       "  <tbody>\n",
       "    <tr>\n",
       "      <th>18142</th>\n",
       "      <td>A100WO06OQR8BQ</td>\n",
       "      <td>B00099XOQO</td>\n",
       "      <td>5</td>\n",
       "    </tr>\n",
       "    <tr>\n",
       "      <th>18152</th>\n",
       "      <td>A100WO06OQR8BQ</td>\n",
       "      <td>B0014EW4C8</td>\n",
       "      <td>5</td>\n",
       "    </tr>\n",
       "    <tr>\n",
       "      <th>18168</th>\n",
       "      <td>A100WO06OQR8BQ</td>\n",
       "      <td>B004S7TZD4</td>\n",
       "      <td>5</td>\n",
       "    </tr>\n",
       "    <tr>\n",
       "      <th>18170</th>\n",
       "      <td>A100WO06OQR8BQ</td>\n",
       "      <td>B004WZ4KK0</td>\n",
       "      <td>5</td>\n",
       "    </tr>\n",
       "    <tr>\n",
       "      <th>18172</th>\n",
       "      <td>A100WO06OQR8BQ</td>\n",
       "      <td>B005HB19KW</td>\n",
       "      <td>1</td>\n",
       "    </tr>\n",
       "    <tr>\n",
       "      <th>...</th>\n",
       "      <td>...</td>\n",
       "      <td>...</td>\n",
       "      <td>...</td>\n",
       "    </tr>\n",
       "    <tr>\n",
       "      <th>14596</th>\n",
       "      <td>AZV26LP92E6WU</td>\n",
       "      <td>B005G2FCI2</td>\n",
       "      <td>5</td>\n",
       "    </tr>\n",
       "    <tr>\n",
       "      <th>14598</th>\n",
       "      <td>AZV26LP92E6WU</td>\n",
       "      <td>B005VBD46U</td>\n",
       "      <td>5</td>\n",
       "    </tr>\n",
       "    <tr>\n",
       "      <th>14602</th>\n",
       "      <td>AZV26LP92E6WU</td>\n",
       "      <td>B00BT7C9R0</td>\n",
       "      <td>5</td>\n",
       "    </tr>\n",
       "    <tr>\n",
       "      <th>14610</th>\n",
       "      <td>AZV26LP92E6WU</td>\n",
       "      <td>B000F0DSAO</td>\n",
       "      <td>5</td>\n",
       "    </tr>\n",
       "    <tr>\n",
       "      <th>14614</th>\n",
       "      <td>AZV26LP92E6WU</td>\n",
       "      <td>B004H8DE6S</td>\n",
       "      <td>5</td>\n",
       "    </tr>\n",
       "  </tbody>\n",
       "</table>\n",
       "<p>5583 rows × 3 columns</p>\n",
       "</div>"
      ],
      "text/plain": [
       "                 u_id        i_id  rating\n",
       "18142  A100WO06OQR8BQ  B00099XOQO       5\n",
       "18152  A100WO06OQR8BQ  B0014EW4C8       5\n",
       "18168  A100WO06OQR8BQ  B004S7TZD4       5\n",
       "18170  A100WO06OQR8BQ  B004WZ4KK0       5\n",
       "18172  A100WO06OQR8BQ  B005HB19KW       1\n",
       "...               ...         ...     ...\n",
       "14596   AZV26LP92E6WU  B005G2FCI2       5\n",
       "14598   AZV26LP92E6WU  B005VBD46U       5\n",
       "14602   AZV26LP92E6WU  B00BT7C9R0       5\n",
       "14610   AZV26LP92E6WU  B000F0DSAO       5\n",
       "14614   AZV26LP92E6WU  B004H8DE6S       5\n",
       "\n",
       "[5583 rows x 3 columns]"
      ]
     },
     "execution_count": 785,
     "metadata": {},
     "output_type": "execute_result"
    }
   ],
   "source": [
    "test_df"
   ]
  },
  {
   "cell_type": "markdown",
   "metadata": {},
   "source": [
    "## SVD using FunkSGD\n",
    "- changed column names\n",
    "- added cross-validation data split"
   ]
  },
  {
   "cell_type": "code",
   "execution_count": 933,
   "metadata": {},
   "outputs": [],
   "source": [
    "svd = SVD(lr=0.009, reg=0.05, n_epochs=100, n_factors=90, \n",
    "          early_stopping=True, shuffle=False, min_rating=1, max_rating=5)"
   ]
  },
  {
   "cell_type": "code",
   "execution_count": 939,
   "metadata": {},
   "outputs": [],
   "source": [
    "svd.fit(X=train_df, X_val=val_df)"
   ]
  },
  {
   "cell_type": "code",
   "execution_count": 935,
   "metadata": {},
   "outputs": [],
   "source": [
    "pred_svd = svd.predict(test_df)"
   ]
  },
  {
   "cell_type": "code",
   "execution_count": 936,
   "metadata": {},
   "outputs": [
    {
     "data": {
      "text/plain": [
       "0.855878538450241"
      ]
     },
     "execution_count": 936,
     "metadata": {},
     "output_type": "execute_result"
    }
   ],
   "source": [
    "rmse_svd = mean_squared_error(test_df['rating'], pred_svd, squared=False)\n",
    "rmse_svd"
   ]
  },
  {
   "cell_type": "code",
   "execution_count": 937,
   "metadata": {},
   "outputs": [
    {
     "data": {
      "text/plain": [
       "0.6623146671535849"
      ]
     },
     "execution_count": 937,
     "metadata": {},
     "output_type": "execute_result"
    }
   ],
   "source": [
    "mae_svd = mean_absolute_error(test_df['rating'], pred_svd)\n",
    "mae_svd"
   ]
  },
  {
   "cell_type": "markdown",
   "metadata": {},
   "source": [
    "## Prediction using Slope One"
   ]
  },
  {
   "cell_type": "code",
   "execution_count": 938,
   "metadata": {},
   "outputs": [
    {
     "name": "stdout",
     "output_type": "stream",
     "text": [
      "RMSE: 1.0529\n",
      "MAE:  0.7481\n"
     ]
    },
    {
     "data": {
      "text/html": [
       "<div>\n",
       "<style scoped>\n",
       "    .dataframe tbody tr th:only-of-type {\n",
       "        vertical-align: middle;\n",
       "    }\n",
       "\n",
       "    .dataframe tbody tr th {\n",
       "        vertical-align: top;\n",
       "    }\n",
       "\n",
       "    .dataframe thead th {\n",
       "        text-align: right;\n",
       "    }\n",
       "</style>\n",
       "<table border=\"1\" class=\"dataframe\">\n",
       "  <thead>\n",
       "    <tr style=\"text-align: right;\">\n",
       "      <th></th>\n",
       "      <th>u_id</th>\n",
       "      <th>i_id</th>\n",
       "      <th>rating</th>\n",
       "    </tr>\n",
       "  </thead>\n",
       "  <tbody>\n",
       "    <tr>\n",
       "      <th>18210</th>\n",
       "      <td>A100WO06OQR8BQ</td>\n",
       "      <td>B00OQDD5ZY</td>\n",
       "      <td>3</td>\n",
       "    </tr>\n",
       "    <tr>\n",
       "      <th>18163</th>\n",
       "      <td>A100WO06OQR8BQ</td>\n",
       "      <td>B0029XLH4Y</td>\n",
       "      <td>5</td>\n",
       "    </tr>\n",
       "    <tr>\n",
       "      <th>18144</th>\n",
       "      <td>A100WO06OQR8BQ</td>\n",
       "      <td>B000F3Q4AM</td>\n",
       "      <td>3</td>\n",
       "    </tr>\n",
       "    <tr>\n",
       "      <th>18219</th>\n",
       "      <td>A100WO06OQR8BQ</td>\n",
       "      <td>B0167BR01C</td>\n",
       "      <td>5</td>\n",
       "    </tr>\n",
       "    <tr>\n",
       "      <th>18202</th>\n",
       "      <td>A100WO06OQR8BQ</td>\n",
       "      <td>B00GMWB09U</td>\n",
       "      <td>5</td>\n",
       "    </tr>\n",
       "    <tr>\n",
       "      <th>...</th>\n",
       "      <td>...</td>\n",
       "      <td>...</td>\n",
       "      <td>...</td>\n",
       "    </tr>\n",
       "    <tr>\n",
       "      <th>14513</th>\n",
       "      <td>AZV26LP92E6WU</td>\n",
       "      <td>B000E1FZHS</td>\n",
       "      <td>5</td>\n",
       "    </tr>\n",
       "    <tr>\n",
       "      <th>14608</th>\n",
       "      <td>AZV26LP92E6WU</td>\n",
       "      <td>B00N4Z3IZW</td>\n",
       "      <td>5</td>\n",
       "    </tr>\n",
       "    <tr>\n",
       "      <th>14562</th>\n",
       "      <td>AZV26LP92E6WU</td>\n",
       "      <td>B001EPQVFS</td>\n",
       "      <td>5</td>\n",
       "    </tr>\n",
       "    <tr>\n",
       "      <th>14606</th>\n",
       "      <td>AZV26LP92E6WU</td>\n",
       "      <td>B00IAE8ZQY</td>\n",
       "      <td>5</td>\n",
       "    </tr>\n",
       "    <tr>\n",
       "      <th>14605</th>\n",
       "      <td>AZV26LP92E6WU</td>\n",
       "      <td>B00H9ZF64O</td>\n",
       "      <td>5</td>\n",
       "    </tr>\n",
       "  </tbody>\n",
       "</table>\n",
       "<p>22279 rows × 3 columns</p>\n",
       "</div>"
      ],
      "text/plain": [
       "                 u_id        i_id  rating\n",
       "18210  A100WO06OQR8BQ  B00OQDD5ZY       3\n",
       "18163  A100WO06OQR8BQ  B0029XLH4Y       5\n",
       "18144  A100WO06OQR8BQ  B000F3Q4AM       3\n",
       "18219  A100WO06OQR8BQ  B0167BR01C       5\n",
       "18202  A100WO06OQR8BQ  B00GMWB09U       5\n",
       "...               ...         ...     ...\n",
       "14513   AZV26LP92E6WU  B000E1FZHS       5\n",
       "14608   AZV26LP92E6WU  B00N4Z3IZW       5\n",
       "14562   AZV26LP92E6WU  B001EPQVFS       5\n",
       "14606   AZV26LP92E6WU  B00IAE8ZQY       5\n",
       "14605   AZV26LP92E6WU  B00H9ZF64O       5\n",
       "\n",
       "[22279 rows x 3 columns]"
      ]
     },
     "execution_count": 938,
     "metadata": {},
     "output_type": "execute_result"
    }
   ],
   "source": [
    "# Slope One Algorithm\n",
    "algo_slope = sp.SlopeOne()\n",
    "\n",
    "r = sp.Reader()\n",
    "train2_df = train_df.append(val_df)\n",
    "trainset = sp.Dataset.load_from_df(train2_df,r)\n",
    "train2_df.insert(len(train2_df.columns), 'timestamp', np.zeros(len(train2_df.index)).tolist())\n",
    "\n",
    "\n",
    "trainset = trainset.construct_trainset(train2_df.values.tolist())\n",
    "\n",
    "\n",
    "algo_slope.fit(trainset)\n",
    "pred_slope = algo_slope.test(test_df.values.tolist())\n",
    "\n",
    "# Then compute RMSE + MAE\n",
    "sp.accuracy.rmse(predictions)\n",
    "sp.accuracy.mae(predictions)\n",
    "\n",
    "train2_df.drop('timestamp', axis=1)\n"
   ]
  },
  {
   "cell_type": "code",
   "execution_count": 905,
   "metadata": {},
   "outputs": [],
   "source": [
    "def get_topN(base_df, rating_list, flag, known):\n",
    "    if(not known):\n",
    "        results = base_df[['u_id','i_id']].copy()\n",
    "        if flag == 'Slope':\n",
    "            results.insert(2, 'rating', [x.est for x in rating_list])\n",
    "        else:\n",
    "            results.insert(2, 'rating', [x for x in rating_list])\n",
    "    else:\n",
    "        results = base_df.copy()\n",
    "        \n",
    "    results['item_rating'] = results[['i_id', 'rating']].values.tolist()\n",
    "    results.drop(['i_id', 'rating'], axis=1, inplace=True)\n",
    "\n",
    "    results_groups = results.groupby('u_id')\n",
    "    results_groups = results_groups[['item_rating']].agg(list)\n",
    "    results_groups['item_rating'] = results_groups.apply(lambda row: sort_rec(row['item_rating'])\n",
    "                                                                           , axis=1)\n",
    "    results_groups.reset_index(inplace=True)\n",
    "    return results_groups\n"
   ]
  },
  {
   "cell_type": "code",
   "execution_count": 902,
   "metadata": {},
   "outputs": [],
   "source": [
    "def sort_rec(rating_list):\n",
    "    return sorted(rating_list, key= lambda x: x[1], reverse=True) #[:10]"
   ]
  },
  {
   "cell_type": "code",
   "execution_count": 903,
   "metadata": {},
   "outputs": [
    {
     "data": {
      "text/plain": [
       "0      [[B00C584ALK, 4.932835820895522], [B00EDADBSQ,...\n",
       "1      [[B000GAT6NG, 5.0], [B002SWB73C, 5.0], [B000EQ...\n",
       "2      [[B000SKLPME, 4.4341756811347], [B004ZK48M2, 4...\n",
       "3      [[B0001N48SG, 5.0], [B00U9W0VPS, 5.0], [B0106G...\n",
       "4      [[B002HQCWYM, 5.0], [B004LWOJC8, 4.95833333333...\n",
       "                             ...                        \n",
       "371    [[B0009F3PIA, 5.0], [B000WR8TT0, 4.86090909090...\n",
       "372    [[B011FEEBTU, 5.0], [B000F4DKAI, 4.62222222222...\n",
       "373    [[B000GZSDZI, 4.737121212121212], [B003ZXCFQ6,...\n",
       "374    [[B00B59QBE4, 5.0], [B00ESDZIRA, 5.0], [B002B8...\n",
       "375    [[B000E1HUVC, 5.0], [B000ED9L6C, 5.0], [B00BT7...\n",
       "Length: 376, dtype: object"
      ]
     },
     "execution_count": 903,
     "metadata": {},
     "output_type": "execute_result"
    }
   ],
   "source": [
    "results_slope_groups = get_topN(test_df, pred_slope, 'Slope', False)\n",
    "results_slope_groups.apply(lambda row : sort_rec(row['item_rating']), axis=1)"
   ]
  },
  {
   "cell_type": "code",
   "execution_count": 795,
   "metadata": {},
   "outputs": [
    {
     "data": {
      "text/plain": [
       "0      [[B00099XOQO, 5], [B0014EW4C8, 5], [B004S7TZD4...\n",
       "1      [[B000EQT77M, 5], [B000GAT6NG, 5], [B002SWB73C...\n",
       "2      [[B000P6G12U, 5], [B000R4JI2U, 5], [B004ZK48M2...\n",
       "3      [[B0001N48SG, 5], [B000LKXADS, 5], [B009OWOKFQ...\n",
       "4      [[B000E1FZHS, 5], [B000F4DKAI, 5], [B001SB4FTW...\n",
       "                             ...                        \n",
       "371    [[B0009F3PIA, 5], [B000CL4MFQ, 5], [B000JJHDVG...\n",
       "372    [[B000F4DKAI, 5], [B00F94YPAS, 5], [B00L2BZCYA...\n",
       "373    [[B000GZSDZI, 5], [B001HTR1ZU, 5], [B002C4QLGE...\n",
       "374    [[B000DZDJ0K, 5], [B001EO5NAS, 5], [B003ZXAMPW...\n",
       "375    [[B000ED9L6C, 5], [B000LKTXNY, 5], [B000LQNK50...\n",
       "Length: 376, dtype: object"
      ]
     },
     "execution_count": 795,
     "metadata": {},
     "output_type": "execute_result"
    }
   ],
   "source": [
    "known_ratings = get_topN(test_df, test_df['rating'],'', True)\n",
    "known_ratings.apply(lambda row : sort_rec(row['item_rating']), axis=1)"
   ]
  },
  {
   "cell_type": "code",
   "execution_count": 906,
   "metadata": {},
   "outputs": [
    {
     "data": {
      "text/plain": [
       "0      [[B0029XLH4Y, 5], [B0167BR01C, 5], [B00GMWB09U...\n",
       "1      [[B0078DQ85S, 5], [B00DHFJVIC, 5], [B00MFC5P4M...\n",
       "2      [[B00N3FP5G8, 5], [B002VH4H4A, 5], [B00HZZ0NZK...\n",
       "3      [[B01CECIVF2, 5], [B01FT13LNC, 5], [B000WLW9TW...\n",
       "4      [[B00J2C7L1S, 5], [B0072DGXJ0, 5], [B0197ALU34...\n",
       "                             ...                        \n",
       "371    [[B00WIXYVIY, 5], [B00FCZJ7CK, 5], [B000HDJXH6...\n",
       "372    [[B00DB8KKDK, 5], [B00JD7MDT2, 5], [B00T2DGTWO...\n",
       "373    [[B001EQ4Y4W, 5], [B008YUL4KI, 5], [B005VOOOR0...\n",
       "374    [[B00G8O0W8W, 5], [B01A1H2R7U, 5], [B00BBR1G9U...\n",
       "375    [[B001EPQTSW, 5], [B001PEZLCM, 5], [B00XOORKRK...\n",
       "Length: 376, dtype: object"
      ]
     },
     "execution_count": 906,
     "metadata": {},
     "output_type": "execute_result"
    }
   ],
   "source": [
    "train_ratings = get_topN(train_df, train_df['rating'],'',True)\n",
    "train_ratings.apply(lambda row : sort_rec(row['item_rating']), axis=1)"
   ]
  },
  {
   "cell_type": "code",
   "execution_count": 796,
   "metadata": {},
   "outputs": [],
   "source": [
    "def Precision(predicted_list, known_list):\n",
    "    tp = 0\n",
    "    #fp = 0\n",
    "    known_list = [x[0] for x in known_list]\n",
    "    predicted_list = [x[0] for x in predicted_list]\n",
    "    for i in range(0,10):\n",
    "        if predicted_list[i] in known_list[:10]:\n",
    "            tp += 1\n",
    "    \n",
    "    return (tp/10)\n",
    "    \n",
    "        \n",
    "        "
   ]
  },
  {
   "cell_type": "code",
   "execution_count": 797,
   "metadata": {},
   "outputs": [],
   "source": [
    "def Recall(predicted_list, known_list):\n",
    "    tp = 0\n",
    "    fn = 0\n",
    "    known_list = [x[0] for x in known_list]\n",
    "    predicted_list = [x[0] for x in predicted_list]\n",
    "    for i in range(0,10):\n",
    "        if predicted_list[i] in known_list[i][:10]:\n",
    "            tp += 1\n",
    "    \n",
    "    \n",
    "    return (tp/len(known_list))\n",
    "    "
   ]
  },
  {
   "cell_type": "code",
   "execution_count": 798,
   "metadata": {},
   "outputs": [],
   "source": [
    "def ndcg(predicted_list, known_list):\n",
    "    rel = 0\n",
    "    dcg = 0\n",
    "    idcg = 0\n",
    "    known_list = [x[0] for x in known_list][:10]\n",
    "    predicted_list = [x[0] for x in predicted_list][:10]\n",
    "    for i in range(0,10):\n",
    "        if predicted_list[i] == known_list[i]:\n",
    "            dcg += 1/(log2(i+1+1))\n",
    "            rel += 1\n",
    "    \n",
    "    for j in range(0,rel):\n",
    "        idcg += 1/(log2(j+1+1))\n",
    "    \n",
    "    \n",
    "    if(idcg):\n",
    "        return (dcg/idcg)\n",
    "    else:\n",
    "        return 0"
   ]
  },
  {
   "cell_type": "code",
   "execution_count": 800,
   "metadata": {},
   "outputs": [
    {
     "data": {
      "text/plain": [
       "0      [[B009E7YBEQ, 4.591134037333008], [B005HB19KW,...\n",
       "1      [[B000EQT77M, 4.688993930610735], [B000GAT6NG,...\n",
       "2      [[B000RGYJI6, 4.553275129504622], [B000SKLPME,...\n",
       "3      [[B009OWOKFQ, 4.961142631747975], [B00RW0MZ6S,...\n",
       "4      [[B002HQCWYM, 4.936396521390749], [B00C3YAH5E,...\n",
       "                             ...                        \n",
       "371    [[B00BCG0OAC, 4.585511343758281], [B000WR8TT0,...\n",
       "372    [[B011FEEBTU, 4.785913475966577], [B00F94YPAS,...\n",
       "373    [[B005HB19KW, 4.696248581886642], [B000E46GGO,...\n",
       "374    [[B00ESDZIRA, 4.113267383986644], [B00B59QBE4,...\n",
       "375    [[B001L498A2, 4.952719919690081], [B001FA1EHC,...\n",
       "Length: 376, dtype: object"
      ]
     },
     "execution_count": 800,
     "metadata": {},
     "output_type": "execute_result"
    }
   ],
   "source": [
    "results_svd_groups = get_topN(test_df, pred_svd, 'svd', False)\n",
    "results_svd_groups.apply(lambda row : sort_rec(row['item_rating']), axis=1)"
   ]
  },
  {
   "cell_type": "markdown",
   "metadata": {},
   "source": [
    "## Getting Metadata to extract Item Titles"
   ]
  },
  {
   "cell_type": "code",
   "execution_count": 848,
   "metadata": {},
   "outputs": [],
   "source": [
    "#take an example \n",
    "df_meta = pd.read_json('meta_Grocery_and_Gourmet_Food.json', lines=True)"
   ]
  },
  {
   "cell_type": "code",
   "execution_count": 838,
   "metadata": {},
   "outputs": [
    {
     "name": "stdout",
     "output_type": "stream",
     "text": [
      "<class 'pandas.core.frame.DataFrame'>\n",
      "RangeIndex: 287051 entries, 0 to 287050\n",
      "Data columns (total 19 columns):\n",
      " #   Column           Non-Null Count   Dtype \n",
      "---  ------           --------------   ----- \n",
      " 0   category         287051 non-null  object\n",
      " 1   tech1            287051 non-null  object\n",
      " 2   description      287051 non-null  object\n",
      " 3   fit              287051 non-null  object\n",
      " 4   title            287051 non-null  object\n",
      " 5   also_buy         287051 non-null  object\n",
      " 6   tech2            287051 non-null  object\n",
      " 7   brand            287051 non-null  object\n",
      " 8   feature          287051 non-null  object\n",
      " 9   rank             287051 non-null  object\n",
      " 10  also_view        287051 non-null  object\n",
      " 11  main_cat         287051 non-null  object\n",
      " 12  similar_item     287051 non-null  object\n",
      " 13  date             287051 non-null  object\n",
      " 14  price            287051 non-null  object\n",
      " 15  asin             287051 non-null  object\n",
      " 16  imageURL         287051 non-null  object\n",
      " 17  imageURLHighRes  287051 non-null  object\n",
      " 18  details          287027 non-null  object\n",
      "dtypes: object(19)\n",
      "memory usage: 41.6+ MB\n"
     ]
    }
   ],
   "source": [
    "df_meta.info()"
   ]
  },
  {
   "cell_type": "code",
   "execution_count": 849,
   "metadata": {},
   "outputs": [
    {
     "name": "stdout",
     "output_type": "stream",
     "text": [
      "<class 'pandas.core.frame.DataFrame'>\n",
      "RangeIndex: 287051 entries, 0 to 287050\n",
      "Data columns (total 2 columns):\n",
      " #   Column  Non-Null Count   Dtype \n",
      "---  ------  --------------   ----- \n",
      " 0   title   287051 non-null  object\n",
      " 1   asin    287051 non-null  object\n",
      "dtypes: object(2)\n",
      "memory usage: 4.4+ MB\n"
     ]
    }
   ],
   "source": [
    "df_meta = df_meta.iloc[:,[4,15]]\n",
    "df_meta.drop_duplicates()\n",
    "df_meta.info()"
   ]
  },
  {
   "cell_type": "markdown",
   "metadata": {},
   "source": [
    "## Results + Predictions"
   ]
  },
  {
   "cell_type": "code",
   "execution_count": 944,
   "metadata": {},
   "outputs": [
    {
     "name": "stdout",
     "output_type": "stream",
     "text": [
      "#----------SLOPE ONE METRICS------------#\n",
      "RMSE:  0.9929189612315695\n",
      "MAE:  0.6404119190604137\n",
      "Precision:  0.7784574468085108\n",
      "Recall:  0.10299482441879389\n",
      "F-score:  0.18192042988308205\n",
      "NDCG:  0.34033226858944593\n"
     ]
    }
   ],
   "source": [
    "\n",
    "print(\"#----------SLOPE ONE METRICS------------#\")\n",
    "print(\"RMSE: \", rmse_slope)\n",
    "print(\"MAE: \",mae_slope)\n",
    "df_prec_slope = results_slope_groups.apply(lambda row : Precision(row.iloc[[1]].values[0], \n",
    "                                                           known_ratings[known_ratings['u_id'] == row['u_id']].values[0][1]),\n",
    "                                       axis=1)\n",
    "avg_prec_slope = df_prec_slope.mean()\n",
    "print(\"Precision: \",avg_prec_slope)\n",
    "\n",
    "\n",
    "df_recall_slope = results_slope_groups.apply(lambda row : Recall(row.iloc[[1]].values[0], \n",
    "                                                           known_ratings[known_ratings['u_id'] == row['u_id']].values[0][1]),\n",
    "                                       axis=1)\n",
    "avg_recall_slope = df_recall_slope.mean()\n",
    "print(\"Recall: \",avg_recall_slope)\n",
    "\n",
    "print(\"F-score: \", (2*avg_prec_slope*avg_recall_slope)/(avg_prec_slope+avg_recall_slope))\n",
    "df_ndcg_slope = results_slope_groups.apply(lambda row : ndcg(row.iloc[[1]].values[0], \n",
    "                                                           known_ratings[known_ratings['u_id'] == row['u_id']].values[0][1]),\n",
    "                                       axis=1)\n",
    "print(\"NDCG: \", df_ndcg_slope.mean())\n",
    "               "
   ]
  },
  {
   "cell_type": "code",
   "execution_count": 945,
   "metadata": {},
   "outputs": [
    {
     "name": "stdout",
     "output_type": "stream",
     "text": [
      "#----------SVD METRICS------------#\n",
      "RMSE:  0.855878538450241\n",
      "MAE:  0.6623146671535849\n",
      "Precision:  0.772340425531915\n",
      "Recall:  0.10162609299411798\n",
      "F-score:  0.17961772732575237\n",
      "NDCG:  0.3140628979696285\n"
     ]
    }
   ],
   "source": [
    "print(\"#----------SVD METRICS------------#\")\n",
    "print(\"RMSE: \", rmse_svd)\n",
    "print(\"MAE: \",mae_svd)\n",
    "df_prec_svd = results_svd_groups.apply(lambda row : Precision(row.iloc[[1]].values[0], \n",
    "                                                           known_ratings[known_ratings['u_id'] == row['u_id']].values[0][1]),\n",
    "                                       axis=1)\n",
    "avg_prec_svd = df_prec_svd.mean()\n",
    "print(\"Precision: \", avg_prec_svd)\n",
    "\n",
    "\n",
    "df_recall_svd = results_svd_groups.apply(lambda row : Recall(row.iloc[[1]].values[0], \n",
    "                                                           known_ratings[known_ratings['u_id'] == row['u_id']].values[0][1]),\n",
    "                                       axis=1)\n",
    "avg_recall_svd = df_recall_svd.mean()\n",
    "print(\"Recall: \", avg_recall_svd)\n",
    "\n",
    "print(\"F-score: \", (2*avg_prec_svd*avg_recall_svd)/(avg_prec_svd+avg_recall_svd))\n",
    "df_ndcg_svd = results_svd_groups.apply(lambda row : ndcg(row.iloc[[1]].values[0], \n",
    "                                                           known_ratings[known_ratings['u_id'] == row['u_id']].values[0][1]),\n",
    "                                       axis=1)\n",
    "print(\"NDCG: \",df_ndcg_svd.mean())"
   ]
  },
  {
   "cell_type": "code",
   "execution_count": 942,
   "metadata": {},
   "outputs": [],
   "source": [
    "def get_recommendations(reviewer_id):\n",
    "    \n",
    "    print(\"SVD+baseline\\t|\\tTest Data\\t|\\tTrain Data\")\n",
    "    \n",
    "    recc_svd = results_svd_groups[results_svd_groups['u_id'] == reviewer_id]['item_rating'].values.tolist()[0]\n",
    "    #recc_slope = results_slope_groups[results_slope_groups['u_id'] == reviewer_id]['item_rating'].values.tolist()[0]\n",
    "    recc_known = known_ratings[known_ratings['u_id'] == reviewer_id]['item_rating'].values.tolist()[0]\n",
    "    recc_train = train_ratings[train_ratings['u_id'] == reviewer_id]['item_rating'].values.tolist()[0]\n",
    "    #print(recc)\n",
    "    for i in range(0,10):\n",
    "        #print(recc[i][0], end='\\t)\n",
    "        \n",
    "        print(df_meta[df_meta['asin']==recc_svd[i][0]]['title'].values.tolist()[0],\"|\", end='')\n",
    "        #print(df_meta[df_meta['asin']==recc_slope[i][0]]['title'].values.tolist()[0], \"|\", end='')\n",
    "        print(df_meta[df_meta['asin']==recc_known[i][0]]['title'].values.tolist()[0], \"|\", end='')\n",
    "        print(df_meta[df_meta['asin']==recc_train[i][0]]['title'].values.tolist()[0])\n",
    "\n",
    "                               \n",
    "        '''\n",
    "        print(recc_svd[i][1],\"|\", end='')\n",
    "        print(recc_slope[i][1], \"|\", end='')\n",
    "        print(recc_known[i][1], \"|\", end='')\n",
    "        print(recc_train[i][1])\n",
    "        '''\n",
    "    \n",
    "            \n",
    "        "
   ]
  },
  {
   "cell_type": "code",
   "execution_count": 943,
   "metadata": {},
   "outputs": [
    {
     "name": "stdout",
     "output_type": "stream",
     "text": [
      "SVD+baseline\t|\tTest Data\t|\tTrain Data\n",
      "Bell Plantation PB2 Powdered Peanut Butter, 1 lb Jar (2-pack) |Knorr Pasta Sides, Beef 4.3 oz |Keurig, Coffee People, Jet Fuel, K-Cup Counts,Dark Roast Coffee 50 Count\n",
      "Bai Flavored Water, Sumatra Dragonfruit, Antioxidant Infused Drinks, 18 Fluid Ounce Bottles, 12 count |V8 Original Low Sodium 100% Vegetable Juice, 5.5 oz. Can (8 packs of 6, Total of 48) |Napalm Coffee, EXTRA DARK ROAST, 100% Arabica, Single Serve Cups for Keurig K-Cup Brewers, 12 Count\n",
      "Community Coffee Caf&eacute; Special Medium Dark Roast Single Serve, 36 Ct Box, Compatible with Keurig 2.0 K Cup Brewers, Full Body Smooth Full Flavor, 100% Arabica Coffee Beans |Coffee People DARK Roast Variety Sampler * JET FUEL &amp; BLACK TIGER * Extra Bold 48 K-Cups for Keurig Brewers |ALMOSTcoffee Coffee Substitute, 16 Oz. Brews Like Real Coffee, Great Tasting, Healthy, Naturally Caffeine-Free and Acid-Free, Non GMO.\n",
      "Brooklyn Beans Oh Fudge Coffee Pods for Keurig K Cups Coffee Maker, 40 Count |Tassimo GEVALIA Dark Italian Roast Coffee, 12 Count T-Discs, (Pack of 3) |College Care Healthy Premium Care Package and Military Variety Bundle (30 Count)\n",
      "V8 Original Low Sodium 100% Vegetable Juice, 5.5 oz. Can (8 packs of 6, Total of 48) |Cafe Escapes Milk Chocolate Hot Cocoa Keurig Vue Portion Pack, 32 Count |Green Mountain Coffee Nantucket Blend,Medium Roast K-Cup Portion Pack for Keurig Brewers 72-Count\n",
      "Coffee People DARK Roast Variety Sampler * JET FUEL &amp; BLACK TIGER * Extra Bold 48 K-Cups for Keurig Brewers |32 Count - Green Mountain Dark Magic Vue Cup Coffee For Keurig Vue Brewers |Reeses Puffs, Peanut Butter, 22.9 Ounce (Pack of 3)\n",
      "Tassimo GEVALIA Dark Italian Roast Coffee, 12 Count T-Discs, (Pack of 3) |Bell Plantation PB2 Powdered Peanut Butter, 1 lb Jar (2-pack) |Senseo Extra Strong Coffee Pods 48-count Pads\n",
      "Cafe Escapes Milk Chocolate Hot Cocoa Keurig Vue Portion Pack, 32 Count |Community Coffee Caf&eacute; Special Medium Dark Roast Single Serve, 36 Ct Box, Compatible with Keurig 2.0 K Cup Brewers, Full Body Smooth Full Flavor, 100% Arabica Coffee Beans |Bell Plantation PB2 Powdered Peanut Butter and PB2 with Premium Chocolate, 6.5 Ounce (Pack of 2)\n",
      "32 Count - Green Mountain Dark Magic Vue Cup Coffee For Keurig Vue Brewers |Bai Coconut Flavored Water, Molokai Coconut, Antioxidant Infused Drinks, 18 Fluid Ounce Bottles, 12 count |Walden Farms Fruit Spread, Raspberry, 12 Ounce\n",
      "32 Count - Starbucks House Blend &amp; French Roast Coffee Vue Cup For Keurig Vue Brewers |Benchmark Bouquets Red Roses and White Oriental Lilies, No Vase (Fresh Cut Flowers) |Kevala  Organic Sesami Tahini, 16 Ounce\n"
     ]
    }
   ],
   "source": [
    "recc_list = get_recommendations('A100WO06OQR8BQ')"
   ]
  },
  {
   "cell_type": "code",
   "execution_count": null,
   "metadata": {},
   "outputs": [],
   "source": []
  }
 ],
 "metadata": {
  "accelerator": "GPU",
  "colab": {
   "provenance": []
  },
  "gpuClass": "standard",
  "kernelspec": {
   "display_name": "Python 3",
   "language": "python",
   "name": "python3"
  },
  "language_info": {
   "codemirror_mode": {
    "name": "ipython",
    "version": 3
   },
   "file_extension": ".py",
   "mimetype": "text/x-python",
   "name": "python",
   "nbconvert_exporter": "python",
   "pygments_lexer": "ipython3",
   "version": "3.9.5"
  }
 },
 "nbformat": 4,
 "nbformat_minor": 4
}
