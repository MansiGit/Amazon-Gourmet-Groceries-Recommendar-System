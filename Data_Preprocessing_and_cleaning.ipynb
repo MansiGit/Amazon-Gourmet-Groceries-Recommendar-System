{
  "nbformat": 4,
  "nbformat_minor": 0,
  "metadata": {
    "colab": {
      "provenance": [],
      "authorship_tag": "ABX9TyPZoGHWadDq9+/myiWCoLFW",
      "include_colab_link": true
    },
    "kernelspec": {
      "name": "python3",
      "display_name": "Python 3"
    },
    "language_info": {
      "name": "python"
    }
  },
  "cells": [
    {
      "cell_type": "markdown",
      "metadata": {
        "id": "view-in-github",
        "colab_type": "text"
      },
      "source": [
        "<a href=\"https://colab.research.google.com/github/MansiGit/Amazon-Gourmet-Groceries-Recommendar-System/blob/main/Data_Preprocessing_and_cleaning.ipynb\" target=\"_parent\"><img src=\"https://colab.research.google.com/assets/colab-badge.svg\" alt=\"Open In Colab\"/></a>"
      ]
    },
    {
      "cell_type": "code",
      "execution_count": 1,
      "metadata": {
        "colab": {
          "base_uri": "https://localhost:8080/"
        },
        "id": "-nS_gMBXJHjD",
        "outputId": "7297b387-c678-4366-9448-f91bca89a0ae"
      },
      "outputs": [
        {
          "output_type": "stream",
          "name": "stdout",
          "text": [
            "Mounted at /content/drive\n"
          ]
        }
      ],
      "source": [
        "from google.colab import drive\n",
        "drive.mount('/content/drive')\n"
      ]
    },
    {
      "cell_type": "code",
      "source": [
        "!ls drive/MyDrive/MDM_Project_Team12/data\n"
      ],
      "metadata": {
        "colab": {
          "base_uri": "https://localhost:8080/"
        },
        "id": "miydL18oJO7Q",
        "outputId": "bbf5ae16-850f-4c6b-bc36-0821006f688b"
      },
      "execution_count": 2,
      "outputs": [
        {
          "output_type": "stream",
          "name": "stdout",
          "text": [
            "Grocery_and_Gourmet_Food_5.json\n",
            "meta_Grocery_and_Gourmet_Food.json\n",
            "meta_Grocery_and_Gourmet_Food.json.to_pickle\n"
          ]
        }
      ]
    },
    {
      "cell_type": "code",
      "source": [
        "import json\n",
        "import pandas as pd\n",
        "import missingno as msno"
      ],
      "metadata": {
        "id": "LKckOWxyJdhQ"
      },
      "execution_count": 3,
      "outputs": []
    },
    {
      "cell_type": "markdown",
      "source": [
        "##Loading Data and cleaning Reviews dataset\n",
        "\n"
      ],
      "metadata": {
        "id": "1taYX1o8JkZs"
      }
    },
    {
      "cell_type": "code",
      "source": [
        "df = pd.read_json('/content/drive/MyDrive/MDM_Project_Team12/data/Grocery_and_Gourmet_Food_5.json',lines=True)"
      ],
      "metadata": {
        "id": "VFELHKU3JkGd"
      },
      "execution_count": 4,
      "outputs": []
    },
    {
      "cell_type": "code",
      "source": [
        "#Shape of the dataset\n",
        "df.shape"
      ],
      "metadata": {
        "colab": {
          "base_uri": "https://localhost:8080/"
        },
        "id": "buuPAfMBJeVv",
        "outputId": "58fcb481-b64b-4361-dbcb-aab5d334441d"
      },
      "execution_count": 5,
      "outputs": [
        {
          "output_type": "execute_result",
          "data": {
            "text/plain": [
              "(1143860, 12)"
            ]
          },
          "metadata": {},
          "execution_count": 5
        }
      ]
    },
    {
      "cell_type": "code",
      "source": [
        "#How many dimensions\n",
        "df.ndim"
      ],
      "metadata": {
        "colab": {
          "base_uri": "https://localhost:8080/"
        },
        "id": "NwHJLtMWJoLU",
        "outputId": "50c5edd9-1295-4b20-8cf9-18a135d4be3d"
      },
      "execution_count": 6,
      "outputs": [
        {
          "output_type": "execute_result",
          "data": {
            "text/plain": [
              "2"
            ]
          },
          "metadata": {},
          "execution_count": 6
        }
      ]
    },
    {
      "cell_type": "code",
      "source": [
        "# describe the dataset\n",
        "df.info()"
      ],
      "metadata": {
        "colab": {
          "base_uri": "https://localhost:8080/"
        },
        "id": "Q7VDOsSWJqmD",
        "outputId": "9ddee69b-ce1c-4f67-bc46-45da69b68241"
      },
      "execution_count": 7,
      "outputs": [
        {
          "output_type": "stream",
          "name": "stdout",
          "text": [
            "<class 'pandas.core.frame.DataFrame'>\n",
            "RangeIndex: 1143860 entries, 0 to 1143859\n",
            "Data columns (total 12 columns):\n",
            " #   Column          Non-Null Count    Dtype \n",
            "---  ------          --------------    ----- \n",
            " 0   overall         1143860 non-null  int64 \n",
            " 1   verified        1143860 non-null  bool  \n",
            " 2   reviewTime      1143860 non-null  object\n",
            " 3   reviewerID      1143860 non-null  object\n",
            " 4   asin            1143860 non-null  object\n",
            " 5   reviewerName    1143722 non-null  object\n",
            " 6   reviewText      1143470 non-null  object\n",
            " 7   summary         1143641 non-null  object\n",
            " 8   unixReviewTime  1143860 non-null  int64 \n",
            " 9   vote            158202 non-null   object\n",
            " 10  style           592086 non-null   object\n",
            " 11  image           9510 non-null     object\n",
            "dtypes: bool(1), int64(2), object(9)\n",
            "memory usage: 97.1+ MB\n"
          ]
        }
      ]
    },
    {
      "cell_type": "code",
      "source": [
        "#finding how many missing values\n",
        "missing = df.isna().sum()\n",
        "msno.bar(df, color=\"dodgerblue\", sort=\"ascending\", figsize=(10,5), fontsize=12)"
      ],
      "metadata": {
        "colab": {
          "base_uri": "https://localhost:8080/",
          "height": 632
        },
        "id": "E4ruk3OAJtS7",
        "outputId": "0020af32-d923-4a6b-e31b-8bdedbfd699a"
      },
      "execution_count": 8,
      "outputs": [
        {
          "output_type": "execute_result",
          "data": {
            "text/plain": [
              "<Axes: >"
            ]
          },
          "metadata": {},
          "execution_count": 8
        },
        {
          "output_type": "display_data",
          "data": {
            "text/plain": [
              "<Figure size 1000x500 with 3 Axes>"
            ],
            "image/png": "[encoded data removed]"
          },
          "metadata": {}
        }
      ]
    },
    {
      "cell_type": "code",
      "source": [
        "#drop irrelevant variables - 'image','vote','style','reviewText','summary','reviewTime','reviewerName','unixReviewTime','verified'\n",
        "drop_list = ['image','vote','style','reviewText','summary','reviewTime','reviewerName','unixReviewTime','verified']\n",
        "df.drop(df[drop_list], axis=1, inplace=True)\n",
        "df.head(5)"
      ],
      "metadata": {
        "colab": {
          "base_uri": "https://localhost:8080/",
          "height": 206
        },
        "id": "P4mv8egdJ_d9",
        "outputId": "edc32d88-2e66-4b7d-9d46-b05cb51ed2f4"
      },
      "execution_count": 9,
      "outputs": [
        {
          "output_type": "execute_result",
          "data": {
            "text/plain": [
              "   overall      reviewerID        asin\n",
              "0        5  A1QVBUH9E1V6I8  4639725183\n",
              "1        5  A3GEOILWLK86XM  4639725183\n",
              "2        5  A32RD6L701BIGP  4639725183\n",
              "3        5  A2UY1O1FBGKIE6  4639725183\n",
              "4        5  A3QHVBQYDV7Z6U  4639725183"
            ],
            "text/html": [
              "\n",
              "  <div id=\"df-7f76a217-216e-4a30-ada1-f7f89d928441\">\n",
              "    <div class=\"colab-df-container\">\n",
              "      <div>\n",
              "<style scoped>\n",
              "    .dataframe tbody tr th:only-of-type {\n",
              "        vertical-align: middle;\n",
              "    }\n",
              "\n",
              "    .dataframe tbody tr th {\n",
              "        vertical-align: top;\n",
              "    }\n",
              "\n",
              "    .dataframe thead th {\n",
              "        text-align: right;\n",
              "    }\n",
              "</style>\n",
              "<table border=\"1\" class=\"dataframe\">\n",
              "  <thead>\n",
              "    <tr style=\"text-align: right;\">\n",
              "      <th></th>\n",
              "      <th>overall</th>\n",
              "      <th>reviewerID</th>\n",
              "      <th>asin</th>\n",
              "    </tr>\n",
              "  </thead>\n",
              "  <tbody>\n",
              "    <tr>\n",
              "      <th>0</th>\n",
              "      <td>5</td>\n",
              "      <td>A1QVBUH9E1V6I8</td>\n",
              "      <td>4639725183</td>\n",
              "    </tr>\n",
              "    <tr>\n",
              "      <th>1</th>\n",
              "      <td>5</td>\n",
              "      <td>A3GEOILWLK86XM</td>\n",
              "      <td>4639725183</td>\n",
              "    </tr>\n",
              "    <tr>\n",
              "      <th>2</th>\n",
              "      <td>5</td>\n",
              "      <td>A32RD6L701BIGP</td>\n",
              "      <td>4639725183</td>\n",
              "    </tr>\n",
              "    <tr>\n",
              "      <th>3</th>\n",
              "      <td>5</td>\n",
              "      <td>A2UY1O1FBGKIE6</td>\n",
              "      <td>4639725183</td>\n",
              "    </tr>\n",
              "    <tr>\n",
              "      <th>4</th>\n",
              "      <td>5</td>\n",
              "      <td>A3QHVBQYDV7Z6U</td>\n",
              "      <td>4639725183</td>\n",
              "    </tr>\n",
              "  </tbody>\n",
              "</table>\n",
              "</div>\n",
              "      <button class=\"colab-df-convert\" onclick=\"convertToInteractive('df-7f76a217-216e-4a30-ada1-f7f89d928441')\"\n",
              "              title=\"Convert this dataframe to an interactive table.\"\n",
              "              style=\"display:none;\">\n",
              "        \n",
              "  <svg xmlns=\"http://www.w3.org/2000/svg\" height=\"24px\"viewBox=\"0 0 24 24\"\n",
              "       width=\"24px\">\n",
              "    <path d=\"M0 0h24v24H0V0z\" fill=\"none\"/>\n",
              "    <path d=\"M18.56 5.44l.94 2.06.94-2.06 2.06-.94-2.06-.94-.94-2.06-.94 2.06-2.06.94zm-11 1L8.5 8.5l.94-2.06 2.06-.94-2.06-.94L8.5 2.5l-.94 2.06-2.06.94zm10 10l.94 2.06.94-2.06 2.06-.94-2.06-.94-.94-2.06-.94 2.06-2.06.94z\"/><path d=\"M17.41 7.96l-1.37-1.37c-.4-.4-.92-.59-1.43-.59-.52 0-1.04.2-1.43.59L10.3 9.45l-7.72 7.72c-.78.78-.78 2.05 0 2.83L4 21.41c.39.39.9.59 1.41.59.51 0 1.02-.2 1.41-.59l7.78-7.78 2.81-2.81c.8-.78.8-2.07 0-2.86zM5.41 20L4 18.59l7.72-7.72 1.47 1.35L5.41 20z\"/>\n",
              "  </svg>\n",
              "      </button>\n",
              "      \n",
              "  <style>\n",
              "    .colab-df-container {\n",
              "      display:flex;\n",
              "      flex-wrap:wrap;\n",
              "      gap: 12px;\n",
              "    }\n",
              "\n",
              "    .colab-df-convert {\n",
              "      background-color: #E8F0FE;\n",
              "      border: none;\n",
              "      border-radius: 50%;\n",
              "      cursor: pointer;\n",
              "      display: none;\n",
              "      fill: #1967D2;\n",
              "      height: 32px;\n",
              "      padding: 0 0 0 0;\n",
              "      width: 32px;\n",
              "    }\n",
              "\n",
              "    .colab-df-convert:hover {\n",
              "      background-color: #E2EBFA;\n",
              "      box-shadow: 0px 1px 2px rgba(60, 64, 67, 0.3), 0px 1px 3px 1px rgba(60, 64, 67, 0.15);\n",
              "      fill: #174EA6;\n",
              "    }\n",
              "\n",
              "    [theme=dark] .colab-df-convert {\n",
              "      background-color: #3B4455;\n",
              "      fill: #D2E3FC;\n",
              "    }\n",
              "\n",
              "    [theme=dark] .colab-df-convert:hover {\n",
              "      background-color: #434B5C;\n",
              "      box-shadow: 0px 1px 3px 1px rgba(0, 0, 0, 0.15);\n",
              "      filter: drop-shadow(0px 1px 2px rgba(0, 0, 0, 0.3));\n",
              "      fill: #FFFFFF;\n",
              "    }\n",
              "  </style>\n",
              "\n",
              "      <script>\n",
              "        const buttonEl =\n",
              "          document.querySelector('#df-7f76a217-216e-4a30-ada1-f7f89d928441 button.colab-df-convert');\n",
              "        buttonEl.style.display =\n",
              "          google.colab.kernel.accessAllowed ? 'block' : 'none';\n",
              "\n",
              "        async function convertToInteractive(key) {\n",
              "          const element = document.querySelector('#df-7f76a217-216e-4a30-ada1-f7f89d928441');\n",
              "          const dataTable =\n",
              "            await google.colab.kernel.invokeFunction('convertToInteractive',\n",
              "                                                     [key], {});\n",
              "          if (!dataTable) return;\n",
              "\n",
              "          const docLinkHtml = 'Like what you see? Visit the ' +\n",
              "            '<a target=\"_blank\" href=https://colab.research.google.com/notebooks/data_table.ipynb>data table notebook</a>'\n",
              "            + ' to learn more about interactive tables.';\n",
              "          element.innerHTML = '';\n",
              "          dataTable['output_type'] = 'display_data';\n",
              "          await google.colab.output.renderOutput(dataTable, element);\n",
              "          const docLink = document.createElement('div');\n",
              "          docLink.innerHTML = docLinkHtml;\n",
              "          element.appendChild(docLink);\n",
              "        }\n",
              "      </script>\n",
              "    </div>\n",
              "  </div>\n",
              "  "
            ]
          },
          "metadata": {},
          "execution_count": 9
        }
      ]
    },
    {
      "cell_type": "code",
      "source": [
        "#numeric data information \n",
        "numeric_features = df.select_dtypes(include=['int64','float64']).columns\n",
        "\n",
        "#nominaldata information \n",
        "nominal_features = df.select_dtypes(include=['object'])\n",
        "print(numeric_features,nominal_features)"
      ],
      "metadata": {
        "colab": {
          "base_uri": "https://localhost:8080/"
        },
        "id": "SmfSywZDKHg-",
        "outputId": "ad249179-fa28-4187-dd47-b38126416602"
      },
      "execution_count": 10,
      "outputs": [
        {
          "output_type": "stream",
          "name": "stdout",
          "text": [
            "Index(['overall'], dtype='object')              reviewerID        asin\n",
            "0        A1QVBUH9E1V6I8  4639725183\n",
            "1        A3GEOILWLK86XM  4639725183\n",
            "2        A32RD6L701BIGP  4639725183\n",
            "3        A2UY1O1FBGKIE6  4639725183\n",
            "4        A3QHVBQYDV7Z6U  4639725183\n",
            "...                 ...         ...\n",
            "1143855  A223YRQH2Z5T1D  B01HJF6FRA\n",
            "1143856  A38GDA4TB9EILT  B01HJF6FRA\n",
            "1143857  A2025PN7HDC5BO  B01HJF6FRA\n",
            "1143858  A1NY7XWC7EPQOA  B01HJF6FRA\n",
            "1143859  A1P0X9E6F99J4T  B01HJF6FRA\n",
            "\n",
            "[1143860 rows x 2 columns]\n"
          ]
        }
      ]
    },
    {
      "cell_type": "markdown",
      "source": [
        "##Loading Data and cleaning Meta data dataset\n"
      ],
      "metadata": {
        "id": "YDPnGT1TKTiv"
      }
    },
    {
      "cell_type": "code",
      "source": [
        "meta_df = pd.read_json('/content/drive/MyDrive/MDM_Project_Team12/data/meta_Grocery_and_Gourmet_Food.json',lines=True)"
      ],
      "metadata": {
        "id": "2-mczWDEKTPq"
      },
      "execution_count": 11,
      "outputs": []
    },
    {
      "cell_type": "code",
      "source": [
        "meta_df.info()"
      ],
      "metadata": {
        "colab": {
          "base_uri": "https://localhost:8080/"
        },
        "id": "I0Yqjk8CKKat",
        "outputId": "359b5bf0-a1ba-4d94-fe65-81c1f607384d"
      },
      "execution_count": 13,
      "outputs": [
        {
          "output_type": "stream",
          "name": "stdout",
          "text": [
            "<class 'pandas.core.frame.DataFrame'>\n",
            "RangeIndex: 287051 entries, 0 to 287050\n",
            "Data columns (total 19 columns):\n",
            " #   Column           Non-Null Count   Dtype \n",
            "---  ------           --------------   ----- \n",
            " 0   category         287051 non-null  object\n",
            " 1   tech1            287051 non-null  object\n",
            " 2   description      287051 non-null  object\n",
            " 3   fit              287051 non-null  object\n",
            " 4   title            287051 non-null  object\n",
            " 5   also_buy         287051 non-null  object\n",
            " 6   tech2            287051 non-null  object\n",
            " 7   brand            287051 non-null  object\n",
            " 8   feature          287051 non-null  object\n",
            " 9   rank             287051 non-null  object\n",
            " 10  also_view        287051 non-null  object\n",
            " 11  main_cat         287051 non-null  object\n",
            " 12  similar_item     287051 non-null  object\n",
            " 13  date             287051 non-null  object\n",
            " 14  price            287051 non-null  object\n",
            " 15  asin             287051 non-null  object\n",
            " 16  imageURL         287051 non-null  object\n",
            " 17  imageURLHighRes  287051 non-null  object\n",
            " 18  details          287027 non-null  object\n",
            "dtypes: object(19)\n",
            "memory usage: 41.6+ MB\n"
          ]
        }
      ]
    },
    {
      "cell_type": "code",
      "source": [
        "#drop irrelvant variables - 'tech1','fit','tech2','main_cat','similar_item','date','price'\n",
        "drop_list = ['tech1','feature','also_view','fit','tech2','main_cat','similar_item','date','price','also_buy','brand','rank','imageURL','imageURLHighRes','details']\n",
        "meta_df.drop(meta_df[drop_list], axis=1, inplace=True)\n",
        "meta_df.head(5)"
      ],
      "metadata": {
        "colab": {
          "base_uri": "https://localhost:8080/",
          "height": 206
        },
        "id": "A-pyEws1KgP7",
        "outputId": "b625ce9a-99b0-40d7-86ce-1a2fc28782c6"
      },
      "execution_count": 14,
      "outputs": [
        {
          "output_type": "execute_result",
          "data": {
            "text/plain": [
              "                                            category  \\\n",
              "0  [Grocery & Gourmet Food, Dairy, Cheese & Eggs,...   \n",
              "1  [Grocery & Gourmet Food, Cooking & Baking, Sug...   \n",
              "2  [Grocery & Gourmet Food, Cooking & Baking, Fro...   \n",
              "3  [Grocery & Gourmet Food, Cooking & Baking, Fro...   \n",
              "4  [Grocery & Gourmet Food, Cooking & Baking, Fro...   \n",
              "\n",
              "                                         description  \\\n",
              "0  [BEEMSTER GOUDA CHEESE AGED 18/24 MONTHS, Stat...   \n",
              "1  [Shipped from UK, please allow 10 to 21 busine...   \n",
              "2  [Jazz up your cakes with a sparkling monogram ...   \n",
              "3                      [Large Letter - Height 4.75\"]   \n",
              "4                                            [4.75\"]   \n",
              "\n",
              "                                               title        asin  \n",
              "0  Beemster Gouda - Aged 18/24 Months - App. 1.5 Lbs  0681727810  \n",
              "1                          Trim Healthy Mama Xylitol  0853347867  \n",
              "2  Letter C - Swarovski Crystal Monogram Wedding ...  1888861118  \n",
              "3  Letter H - Swarovski Crystal Monogram Wedding ...  1888861517  \n",
              "4  Letter S - Swarovski Crystal Monogram Wedding ...  1888861614  "
            ],
            "text/html": [
              "\n",
              "  <div id=\"df-2b962eb7-b203-4645-ad82-cd769b2133bb\">\n",
              "    <div class=\"colab-df-container\">\n",
              "      <div>\n",
              "<style scoped>\n",
              "    .dataframe tbody tr th:only-of-type {\n",
              "        vertical-align: middle;\n",
              "    }\n",
              "\n",
              "    .dataframe tbody tr th {\n",
              "        vertical-align: top;\n",
              "    }\n",
              "\n",
              "    .dataframe thead th {\n",
              "        text-align: right;\n",
              "    }\n",
              "</style>\n",
              "<table border=\"1\" class=\"dataframe\">\n",
              "  <thead>\n",
              "    <tr style=\"text-align: right;\">\n",
              "      <th></th>\n",
              "      <th>category</th>\n",
              "      <th>description</th>\n",
              "      <th>title</th>\n",
              "      <th>asin</th>\n",
              "    </tr>\n",
              "  </thead>\n",
              "  <tbody>\n",
              "    <tr>\n",
              "      <th>0</th>\n",
              "      <td>[Grocery &amp; Gourmet Food, Dairy, Cheese &amp; Eggs,...</td>\n",
              "      <td>[BEEMSTER GOUDA CHEESE AGED 18/24 MONTHS, Stat...</td>\n",
              "      <td>Beemster Gouda - Aged 18/24 Months - App. 1.5 Lbs</td>\n",
              "      <td>0681727810</td>\n",
              "    </tr>\n",
              "    <tr>\n",
              "      <th>1</th>\n",
              "      <td>[Grocery &amp; Gourmet Food, Cooking &amp; Baking, Sug...</td>\n",
              "      <td>[Shipped from UK, please allow 10 to 21 busine...</td>\n",
              "      <td>Trim Healthy Mama Xylitol</td>\n",
              "      <td>0853347867</td>\n",
              "    </tr>\n",
              "    <tr>\n",
              "      <th>2</th>\n",
              "      <td>[Grocery &amp; Gourmet Food, Cooking &amp; Baking, Fro...</td>\n",
              "      <td>[Jazz up your cakes with a sparkling monogram ...</td>\n",
              "      <td>Letter C - Swarovski Crystal Monogram Wedding ...</td>\n",
              "      <td>1888861118</td>\n",
              "    </tr>\n",
              "    <tr>\n",
              "      <th>3</th>\n",
              "      <td>[Grocery &amp; Gourmet Food, Cooking &amp; Baking, Fro...</td>\n",
              "      <td>[Large Letter - Height 4.75\"]</td>\n",
              "      <td>Letter H - Swarovski Crystal Monogram Wedding ...</td>\n",
              "      <td>1888861517</td>\n",
              "    </tr>\n",
              "    <tr>\n",
              "      <th>4</th>\n",
              "      <td>[Grocery &amp; Gourmet Food, Cooking &amp; Baking, Fro...</td>\n",
              "      <td>[4.75\"]</td>\n",
              "      <td>Letter S - Swarovski Crystal Monogram Wedding ...</td>\n",
              "      <td>1888861614</td>\n",
              "    </tr>\n",
              "  </tbody>\n",
              "</table>\n",
              "</div>\n",
              "      <button class=\"colab-df-convert\" onclick=\"convertToInteractive('df-2b962eb7-b203-4645-ad82-cd769b2133bb')\"\n",
              "              title=\"Convert this dataframe to an interactive table.\"\n",
              "              style=\"display:none;\">\n",
              "        \n",
              "  <svg xmlns=\"http://www.w3.org/2000/svg\" height=\"24px\"viewBox=\"0 0 24 24\"\n",
              "       width=\"24px\">\n",
              "    <path d=\"M0 0h24v24H0V0z\" fill=\"none\"/>\n",
              "    <path d=\"M18.56 5.44l.94 2.06.94-2.06 2.06-.94-2.06-.94-.94-2.06-.94 2.06-2.06.94zm-11 1L8.5 8.5l.94-2.06 2.06-.94-2.06-.94L8.5 2.5l-.94 2.06-2.06.94zm10 10l.94 2.06.94-2.06 2.06-.94-2.06-.94-.94-2.06-.94 2.06-2.06.94z\"/><path d=\"M17.41 7.96l-1.37-1.37c-.4-.4-.92-.59-1.43-.59-.52 0-1.04.2-1.43.59L10.3 9.45l-7.72 7.72c-.78.78-.78 2.05 0 2.83L4 21.41c.39.39.9.59 1.41.59.51 0 1.02-.2 1.41-.59l7.78-7.78 2.81-2.81c.8-.78.8-2.07 0-2.86zM5.41 20L4 18.59l7.72-7.72 1.47 1.35L5.41 20z\"/>\n",
              "  </svg>\n",
              "      </button>\n",
              "      \n",
              "  <style>\n",
              "    .colab-df-container {\n",
              "      display:flex;\n",
              "      flex-wrap:wrap;\n",
              "      gap: 12px;\n",
              "    }\n",
              "\n",
              "    .colab-df-convert {\n",
              "      background-color: #E8F0FE;\n",
              "      border: none;\n",
              "      border-radius: 50%;\n",
              "      cursor: pointer;\n",
              "      display: none;\n",
              "      fill: #1967D2;\n",
              "      height: 32px;\n",
              "      padding: 0 0 0 0;\n",
              "      width: 32px;\n",
              "    }\n",
              "\n",
              "    .colab-df-convert:hover {\n",
              "      background-color: #E2EBFA;\n",
              "      box-shadow: 0px 1px 2px rgba(60, 64, 67, 0.3), 0px 1px 3px 1px rgba(60, 64, 67, 0.15);\n",
              "      fill: #174EA6;\n",
              "    }\n",
              "\n",
              "    [theme=dark] .colab-df-convert {\n",
              "      background-color: #3B4455;\n",
              "      fill: #D2E3FC;\n",
              "    }\n",
              "\n",
              "    [theme=dark] .colab-df-convert:hover {\n",
              "      background-color: #434B5C;\n",
              "      box-shadow: 0px 1px 3px 1px rgba(0, 0, 0, 0.15);\n",
              "      filter: drop-shadow(0px 1px 2px rgba(0, 0, 0, 0.3));\n",
              "      fill: #FFFFFF;\n",
              "    }\n",
              "  </style>\n",
              "\n",
              "      <script>\n",
              "        const buttonEl =\n",
              "          document.querySelector('#df-2b962eb7-b203-4645-ad82-cd769b2133bb button.colab-df-convert');\n",
              "        buttonEl.style.display =\n",
              "          google.colab.kernel.accessAllowed ? 'block' : 'none';\n",
              "\n",
              "        async function convertToInteractive(key) {\n",
              "          const element = document.querySelector('#df-2b962eb7-b203-4645-ad82-cd769b2133bb');\n",
              "          const dataTable =\n",
              "            await google.colab.kernel.invokeFunction('convertToInteractive',\n",
              "                                                     [key], {});\n",
              "          if (!dataTable) return;\n",
              "\n",
              "          const docLinkHtml = 'Like what you see? Visit the ' +\n",
              "            '<a target=\"_blank\" href=https://colab.research.google.com/notebooks/data_table.ipynb>data table notebook</a>'\n",
              "            + ' to learn more about interactive tables.';\n",
              "          element.innerHTML = '';\n",
              "          dataTable['output_type'] = 'display_data';\n",
              "          await google.colab.output.renderOutput(dataTable, element);\n",
              "          const docLink = document.createElement('div');\n",
              "          docLink.innerHTML = docLinkHtml;\n",
              "          element.appendChild(docLink);\n",
              "        }\n",
              "      </script>\n",
              "    </div>\n",
              "  </div>\n",
              "  "
            ]
          },
          "metadata": {},
          "execution_count": 14
        }
      ]
    },
    {
      "cell_type": "code",
      "source": [
        "#filter out the category\n",
        "# Transform dataframe\n",
        "meta_df['category'] = meta_df['category'].apply(lambda x: x[1])"
      ],
      "metadata": {
        "id": "CzBagmJzKmhk"
      },
      "execution_count": 15,
      "outputs": []
    },
    {
      "cell_type": "code",
      "source": [
        "#Look for non unique values and remove the duplicates\n",
        "print(len(meta_df['asin'].unique())-len(meta_df['asin']))\n",
        "non_unique_asins = meta_df[meta_df.duplicated(['asin'], keep=False)]['asin'].unique()\n",
        "#print(meta_df[meta_df['asin'].isin([\"B0005XMOK6\"])])\n",
        "\n",
        "\n",
        "#dropping duplicate rows in metadata\n",
        "meta_df=meta_df.drop_duplicates(subset='asin', keep='first')"
      ],
      "metadata": {
        "colab": {
          "base_uri": "https://localhost:8080/"
        },
        "id": "EIO6WVZ9KpGt",
        "outputId": "95683020-e81f-4d4b-aad4-dd2ee8cfc2fc"
      },
      "execution_count": 16,
      "outputs": [
        {
          "output_type": "stream",
          "name": "stdout",
          "text": [
            "-3697\n"
          ]
        }
      ]
    },
    {
      "cell_type": "markdown",
      "source": [
        "### Merge the two dataframes"
      ],
      "metadata": {
        "id": "9kF_ywH6K0WS"
      }
    },
    {
      "cell_type": "code",
      "source": [
        "#merge metadata and reviews using an inner join\n",
        "merged_df = df.merge(meta_df, on='asin', how='inner')"
      ],
      "metadata": {
        "id": "ttJlWMLaKv38"
      },
      "execution_count": 17,
      "outputs": []
    },
    {
      "cell_type": "code",
      "source": [
        "merged_df.info()"
      ],
      "metadata": {
        "colab": {
          "base_uri": "https://localhost:8080/"
        },
        "id": "wGHN_GUlK3jZ",
        "outputId": "6c44935a-9ccb-40bb-ad9d-dc086c0e688f"
      },
      "execution_count": 18,
      "outputs": [
        {
          "output_type": "stream",
          "name": "stdout",
          "text": [
            "<class 'pandas.core.frame.DataFrame'>\n",
            "Int64Index: 1143063 entries, 0 to 1143062\n",
            "Data columns (total 6 columns):\n",
            " #   Column       Non-Null Count    Dtype \n",
            "---  ------       --------------    ----- \n",
            " 0   overall      1143063 non-null  int64 \n",
            " 1   reviewerID   1143063 non-null  object\n",
            " 2   asin         1143063 non-null  object\n",
            " 3   category     1143063 non-null  object\n",
            " 4   description  1143063 non-null  object\n",
            " 5   title        1143063 non-null  object\n",
            "dtypes: int64(1), object(5)\n",
            "memory usage: 61.0+ MB\n"
          ]
        }
      ]
    },
    {
      "cell_type": "markdown",
      "source": [
        "### Storing the merged dataset into a pickle\n"
      ],
      "metadata": {
        "id": "hQr4-qYIK68V"
      }
    },
    {
      "cell_type": "code",
      "source": [
        "merged_df.to_pickle('/content/drive/MyDrive/MDM_Project_Team12/data/meta_Grocery_and_Gourmet_Food.json.to_pickle')\n"
      ],
      "metadata": {
        "id": "w7oyH108K4u6"
      },
      "execution_count": 19,
      "outputs": []
    },
    {
      "cell_type": "code",
      "source": [],
      "metadata": {
        "id": "faBW0Z4RK9bA"
      },
      "execution_count": null,
      "outputs": []
    }
  ]
}